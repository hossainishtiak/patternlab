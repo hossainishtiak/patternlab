{
 "cells": [
  {
   "cell_type": "code",
   "execution_count": 1,
   "metadata": {},
   "outputs": [],
   "source": [
    "import numpy as np\n",
    "import pandas as pd\n",
    "from pprint import pprint"
   ]
  },
  {
   "cell_type": "code",
   "execution_count": 2,
   "metadata": {},
   "outputs": [],
   "source": [
    "\n",
    "# Function defs\n",
    "\n",
    "def tokenize(corpus : str) -> list:\n",
    "    tokens = []\n",
    "    for sentence in corpus:\n",
    "        tokens.append(sentence.split())\n",
    "    return tokens"
   ]
  },
  {
   "cell_type": "code",
   "execution_count": 3,
   "metadata": {},
   "outputs": [],
   "source": [
    "def generate_center_context_pair(tokens, window: int) -> dict:\n",
    "    pairs = dict()\n",
    "    for row in tokens:\n",
    "        for idx, center_word in enumerate(row):\n",
    "            pairs.setdefault(center_word, [])\n",
    "            for i in range(idx - window, idx + window + 1):\n",
    "                if (i >= 0 and i != idx and i < len(row)):\n",
    "                    pairs[center_word].append(row[i])\n",
    "    return pairs"
   ]
  },
  {
   "cell_type": "code",
   "execution_count": 4,
   "metadata": {},
   "outputs": [],
   "source": [
    "def generate_jdt(cc_pair: dict) -> list:\n",
    "    jdt = []\n",
    "    for center in cc_pair.keys():\n",
    "        for context in cc_pair[center]:\n",
    "            jdt.append([center, context])\n",
    "    return jdt"
   ]
  },
  {
   "cell_type": "code",
   "execution_count": 5,
   "metadata": {},
   "outputs": [],
   "source": [
    "def all_p_of_context_given_center(joint_distrib_table: pd.DataFrame):\n",
    "    counts = joint_distrib_table.groupby(['center', 'context']).size()\n",
    "    counts = counts.to_dict()\n",
    "    return counts"
   ]
  },
  {
   "cell_type": "code",
   "execution_count": 6,
   "metadata": {},
   "outputs": [],
   "source": [
    "corpus = [\n",
    "        \"he is a king\",\n",
    "        \"she is a queen\",\n",
    "        \"he is a man\",\n",
    "        \"she is a woman\",\n",
    "        \"warsaw is poland capital\",\n",
    "        \"berlin is germany capital\",\n",
    "        \"paris is france capital\",\n",
    "        # \"Sxi este juna kaj bela\",\n",
    "]"
   ]
  },
  {
   "cell_type": "code",
   "execution_count": 14,
   "metadata": {},
   "outputs": [
    {
     "name": "stdout",
     "output_type": "stream",
     "text": [
      "Joint Distribution Table\n",
      "  center context\n",
      "0     he      is\n",
      "1     he       a\n",
      "2     he      is\n",
      "3     he       a\n",
      "4     is      he\n",
      "5     is       a\n",
      "6     is    king\n",
      "7     is     she\n",
      "8     is       a\n",
      "9     is   queen\n",
      "{('a', 'he'): 2,\n",
      " ('a', 'is'): 4,\n",
      " ('a', 'king'): 1,\n",
      " ('a', 'man'): 1,\n",
      " ('a', 'queen'): 1,\n",
      " ('a', 'she'): 2,\n",
      " ('a', 'woman'): 1,\n",
      " ('berlin', 'germany'): 1,\n",
      " ('berlin', 'is'): 1,\n",
      " ('capital', 'france'): 1,\n",
      " ('capital', 'germany'): 1,\n",
      " ('capital', 'is'): 3,\n",
      " ('capital', 'poland'): 1,\n",
      " ('france', 'capital'): 1,\n",
      " ('france', 'is'): 1,\n",
      " ('france', 'paris'): 1,\n",
      " ('germany', 'berlin'): 1,\n",
      " ('germany', 'capital'): 1,\n",
      " ('germany', 'is'): 1,\n",
      " ('he', 'a'): 2,\n",
      " ('he', 'is'): 2,\n",
      " ('is', 'a'): 4,\n",
      " ('is', 'berlin'): 1,\n",
      " ('is', 'capital'): 3,\n",
      " ('is', 'france'): 1,\n",
      " ('is', 'germany'): 1,\n",
      " ('is', 'he'): 2,\n",
      " ('is', 'king'): 1,\n",
      " ('is', 'man'): 1,\n",
      " ('is', 'paris'): 1,\n",
      " ('is', 'poland'): 1,\n",
      " ('is', 'queen'): 1,\n",
      " ('is', 'she'): 2,\n",
      " ('is', 'warsaw'): 1,\n",
      " ('is', 'woman'): 1,\n",
      " ('king', 'a'): 1,\n",
      " ('king', 'is'): 1,\n",
      " ('man', 'a'): 1,\n",
      " ('man', 'is'): 1,\n",
      " ('paris', 'france'): 1,\n",
      " ('paris', 'is'): 1,\n",
      " ('poland', 'capital'): 1,\n",
      " ('poland', 'is'): 1,\n",
      " ('poland', 'warsaw'): 1,\n",
      " ('queen', 'a'): 1,\n",
      " ('queen', 'is'): 1,\n",
      " ('she', 'a'): 2,\n",
      " ('she', 'is'): 2,\n",
      " ('warsaw', 'is'): 1,\n",
      " ('warsaw', 'poland'): 1,\n",
      " ('woman', 'a'): 1,\n",
      " ('woman', 'is'): 1}\n"
     ]
    }
   ],
   "source": [
    "def main():\n",
    "    #pprint(corpus)\n",
    "\n",
    "    tokens = tokenize(corpus)\n",
    "    cc_pair = generate_center_context_pair(tokens, 2)\n",
    "\n",
    "    # pprint(cc_pair)\n",
    "\n",
    "    global jdt\n",
    "    jdt = np.asarray(generate_jdt(cc_pair))\n",
    "    jdt = pd.DataFrame({'center': jdt[:, 0], 'context': jdt[:, 1]})\n",
    "    print(\"Joint Distribution Table\")\n",
    "    print(jdt[:10])\n",
    "\n",
    "    cc_pair_counts = all_p_of_context_given_center(jdt)\n",
    "    pprint(cc_pair_counts)\n",
    "\n",
    "if __name__ == \"__main__\":\n",
    "    main()\n"
   ]
  },
  {
   "cell_type": "code",
   "execution_count": null,
   "metadata": {},
   "outputs": [],
   "source": []
  }
 ],
 "metadata": {
  "kernelspec": {
   "display_name": "Python 3",
   "language": "python",
   "name": "python3"
  },
  "language_info": {
   "codemirror_mode": {
    "name": "ipython",
    "version": 3
   },
   "file_extension": ".py",
   "mimetype": "text/x-python",
   "name": "python",
   "nbconvert_exporter": "python",
   "pygments_lexer": "ipython3",
   "version": "3.7.2"
  }
 },
 "nbformat": 4,
 "nbformat_minor": 2
}
