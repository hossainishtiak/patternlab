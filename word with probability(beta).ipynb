{
 "cells": [
  {
   "cell_type": "code",
   "execution_count": 1,
   "metadata": {},
   "outputs": [],
   "source": [
    "import numpy as np\n",
    "import pandas as pd\n",
    "from pprint import pprint"
   ]
  },
  {
   "cell_type": "code",
   "execution_count": 2,
   "metadata": {},
   "outputs": [],
   "source": [
    "def tokenize(corpus : str) -> list:\n",
    "    tokens = []\n",
    "    for sentence in corpus:\n",
    "        tokens.append(sentence.split())\n",
    "    return tokens"
   ]
  },
  {
   "cell_type": "code",
   "execution_count": 3,
   "metadata": {},
   "outputs": [],
   "source": [
    "def generate_center_context_pair(tokens, window: int) -> dict:\n",
    "    pairs = dict()\n",
    "    for row in tokens:\n",
    "        for idx, center_word in enumerate(row):\n",
    "            pairs.setdefault(center_word, [])\n",
    "            for i in range(idx - window, idx + window + 1):\n",
    "                if (i >= 0 and i != idx and i < len(row)):\n",
    "                    pairs[center_word].append(row[i])\n",
    "    return pairs\n"
   ]
  },
  {
   "cell_type": "code",
   "execution_count": 4,
   "metadata": {},
   "outputs": [],
   "source": [
    "def generate_jdd(cc_pair: dict) -> list:\n",
    "    jdd = []\n",
    "    for key in cc_pair.keys():\n",
    "        for item in cc_pair[key]:\n",
    "            jdd.append([item, key])\n",
    "    return jdd"
   ]
  },
  {
   "cell_type": "code",
   "execution_count": 52,
   "metadata": {},
   "outputs": [],
   "source": [
    "corpus = [\n",
    "    \n",
    "    \n",
    "        \"he is karim\",\n",
    "        \"I know him\",\n",
    "        \"he loves you\",\n",
    "        \"he loves me\",\n",
    "    \n",
    "        #\"he is a king\",\n",
    "        #\"she is a queen\",\n",
    "        #\"he is a man\",\n",
    "        #\"she is a woman\",\n",
    "        #\"warsaw is poland capital\",\n",
    "        #\"berlin is germany capital\",\n",
    "        #\"paris is france capital\",\n",
    "        # \"Sxi este juna kaj bela\",\n",
    "]"
   ]
  },
  {
   "cell_type": "code",
   "execution_count": 57,
   "metadata": {},
   "outputs": [
    {
     "name": "stdout",
     "output_type": "stream",
     "text": [
      "['he is karim', 'I know him', 'he loves you', 'he loves me']\n",
      "Joint Distribution Table\n",
      "   center context\n",
      "0      he      is\n",
      "1      he   karim\n",
      "2      he   loves\n",
      "3      he     you\n",
      "4      he   loves\n",
      "5      he      me\n",
      "6      is      he\n",
      "7      is   karim\n",
      "8   karim      he\n",
      "9   karim      is\n",
      "10      I    know\n",
      "11      I     him\n",
      "12   know       I\n",
      "13   know     him\n",
      "14    him       I\n",
      "15    him    know\n",
      "16  loves      he\n",
      "17  loves     you\n",
      "18  loves      he\n",
      "19  loves      me\n",
      "20    you      he\n",
      "21    you   loves\n",
      "22     me      he\n",
      "23     me   loves\n",
      "Total number of row \n",
      "24\n",
      "\n",
      "\n",
      "Number of occurance word in center\n",
      "[6 4 2 2 2 2 2 2 2]\n",
      "\n",
      "\n",
      "P(he)\n",
      "0.25\n",
      "P(is|he)\n",
      "0.17\n",
      "P(karim|he)\n",
      "0.17\n",
      "P(loves|he)\n",
      "0.33\n",
      "P(you|he)\n",
      "0.17\n"
     ]
    }
   ],
   "source": [
    "def main():\n",
    "    pprint(corpus)\n",
    "\n",
    "    tokens = tokenize(corpus)\n",
    "    cc_pair = generate_center_context_pair(tokens, 2)\n",
    "\n",
    "    #pprint(cc_pair)\n",
    "\n",
    "    jdd = np.asarray(generate_jdd(cc_pair))\n",
    "    jdd = pd.DataFrame({'center': jdd[:, 1], 'context': jdd[:, 0]})\n",
    "    print(\"Joint Distribution Table\")\n",
    "    print(jdd)\n",
    "    \n",
    "    print(\"Total number of row \")\n",
    "    sample_space = jdd.shape[0]\n",
    "    print (sample_space)\n",
    "    print(\"\\n\")\n",
    "    \n",
    "    print(\"Number of occurance word in center\")\n",
    "    a = np.asarray(jdd['center'].value_counts())\n",
    "    print(a)\n",
    "    \n",
    "    print(\"\\n\")\n",
    "    print(\"P(he)\")\n",
    "    prob = (a[0] / sample_space)\n",
    "    print(round(prob, 2)) \n",
    "    \n",
    "    print(\"P(is|he)\")\n",
    "    prob1 = (1 / a[0])\n",
    "    print(round(prob1, 2))\n",
    "    \n",
    "    print(\"P(karim|he)\")\n",
    "    prob2 = (1 / a[0])\n",
    "    print(round(prob2, 2))\n",
    "    \n",
    "    print(\"P(loves|he)\")\n",
    "    prob3 = (2 / a[0])\n",
    "    print(round(prob3, 2))\n",
    "    \n",
    "    print(\"P(you|he)\")\n",
    "    prob4 = (1 / a[0])\n",
    "    print(round(prob4, 2))\n",
    "    \n",
    "        \n",
    "\n",
    "if __name__ == \"__main__\":\n",
    "    main()\n"
   ]
  },
  {
   "cell_type": "code",
   "execution_count": null,
   "metadata": {},
   "outputs": [],
   "source": []
  },
  {
   "cell_type": "code",
   "execution_count": null,
   "metadata": {},
   "outputs": [],
   "source": []
  }
 ],
 "metadata": {
  "kernelspec": {
   "display_name": "Python 3",
   "language": "python",
   "name": "python3"
  },
  "language_info": {
   "codemirror_mode": {
    "name": "ipython",
    "version": 3
   },
   "file_extension": ".py",
   "mimetype": "text/x-python",
   "name": "python",
   "nbconvert_exporter": "python",
   "pygments_lexer": "ipython3",
   "version": "3.7.0"
  }
 },
 "nbformat": 4,
 "nbformat_minor": 2
}
